{
 "cells": [
  {
   "cell_type": "code",
   "execution_count": 1,
   "metadata": {
    "collapsed": true
   },
   "outputs": [],
   "source": [
    "import numpy as np\n",
    "import pandas as pd\n",
    "from sklearn import preprocessing\n",
    "import sklearn"
   ]
  },
  {
   "cell_type": "code",
   "execution_count": 3,
   "metadata": {},
   "outputs": [
    {
     "data": {
      "text/html": [
       "<div>\n",
       "<style scoped>\n",
       "    .dataframe tbody tr th:only-of-type {\n",
       "        vertical-align: middle;\n",
       "    }\n",
       "\n",
       "    .dataframe tbody tr th {\n",
       "        vertical-align: top;\n",
       "    }\n",
       "\n",
       "    .dataframe thead th {\n",
       "        text-align: right;\n",
       "    }\n",
       "</style>\n",
       "<table border=\"1\" class=\"dataframe\">\n",
       "  <thead>\n",
       "    <tr style=\"text-align: right;\">\n",
       "      <th></th>\n",
       "      <th>District_Name</th>\n",
       "      <th>Year</th>\n",
       "      <th>State_Name</th>\n",
       "      <th>Season</th>\n",
       "      <th>Crop</th>\n",
       "      <th>Area</th>\n",
       "      <th>Production</th>\n",
       "      <th>Rainfall</th>\n",
       "      <th>Yield</th>\n",
       "      <th>Temperature</th>\n",
       "    </tr>\n",
       "  </thead>\n",
       "  <tbody>\n",
       "    <tr>\n",
       "      <th>0</th>\n",
       "      <td>Adilabad</td>\n",
       "      <td>2001</td>\n",
       "      <td>Telangana</td>\n",
       "      <td>Rabi</td>\n",
       "      <td>Sunflower</td>\n",
       "      <td>700.0</td>\n",
       "      <td>300.0</td>\n",
       "      <td>103.4</td>\n",
       "      <td>0.428571</td>\n",
       "      <td>24.191500</td>\n",
       "    </tr>\n",
       "    <tr>\n",
       "      <th>1</th>\n",
       "      <td>Adilabad</td>\n",
       "      <td>2001</td>\n",
       "      <td>Telangana</td>\n",
       "      <td>Rabi</td>\n",
       "      <td>Urad</td>\n",
       "      <td>700.0</td>\n",
       "      <td>300.0</td>\n",
       "      <td>103.4</td>\n",
       "      <td>0.428571</td>\n",
       "      <td>24.191500</td>\n",
       "    </tr>\n",
       "    <tr>\n",
       "      <th>2</th>\n",
       "      <td>Adilabad</td>\n",
       "      <td>2001</td>\n",
       "      <td>Telangana</td>\n",
       "      <td>Rabi</td>\n",
       "      <td>Wheat</td>\n",
       "      <td>2800.0</td>\n",
       "      <td>1600.0</td>\n",
       "      <td>103.4</td>\n",
       "      <td>0.571429</td>\n",
       "      <td>24.191500</td>\n",
       "    </tr>\n",
       "    <tr>\n",
       "      <th>3</th>\n",
       "      <td>Adilabad</td>\n",
       "      <td>2001</td>\n",
       "      <td>Telangana</td>\n",
       "      <td>Whole Year</td>\n",
       "      <td>Sugarcane</td>\n",
       "      <td>300.0</td>\n",
       "      <td>28800.0</td>\n",
       "      <td>1322.4</td>\n",
       "      <td>96.000000</td>\n",
       "      <td>27.897667</td>\n",
       "    </tr>\n",
       "    <tr>\n",
       "      <th>4</th>\n",
       "      <td>Adilabad</td>\n",
       "      <td>2001</td>\n",
       "      <td>Telangana</td>\n",
       "      <td>Whole Year</td>\n",
       "      <td>Tobacco</td>\n",
       "      <td>200.0</td>\n",
       "      <td>400.0</td>\n",
       "      <td>1322.4</td>\n",
       "      <td>2.000000</td>\n",
       "      <td>27.897667</td>\n",
       "    </tr>\n",
       "    <tr>\n",
       "      <th>...</th>\n",
       "      <td>...</td>\n",
       "      <td>...</td>\n",
       "      <td>...</td>\n",
       "      <td>...</td>\n",
       "      <td>...</td>\n",
       "      <td>...</td>\n",
       "      <td>...</td>\n",
       "      <td>...</td>\n",
       "      <td>...</td>\n",
       "      <td>...</td>\n",
       "    </tr>\n",
       "    <tr>\n",
       "      <th>164803</th>\n",
       "      <td>Zunheboto</td>\n",
       "      <td>2017</td>\n",
       "      <td>Nagaland</td>\n",
       "      <td>Kharif</td>\n",
       "      <td>Maize</td>\n",
       "      <td>10090.0</td>\n",
       "      <td>19950.0</td>\n",
       "      <td>1056.6</td>\n",
       "      <td>1.977205</td>\n",
       "      <td>22.526667</td>\n",
       "    </tr>\n",
       "    <tr>\n",
       "      <th>164804</th>\n",
       "      <td>Zunheboto</td>\n",
       "      <td>2017</td>\n",
       "      <td>Nagaland</td>\n",
       "      <td>Kharif</td>\n",
       "      <td>Mesta</td>\n",
       "      <td>210.0</td>\n",
       "      <td>220.0</td>\n",
       "      <td>1056.6</td>\n",
       "      <td>1.047619</td>\n",
       "      <td>22.526667</td>\n",
       "    </tr>\n",
       "    <tr>\n",
       "      <th>164805</th>\n",
       "      <td>Zunheboto</td>\n",
       "      <td>2017</td>\n",
       "      <td>Nagaland</td>\n",
       "      <td>Kharif</td>\n",
       "      <td>Moong(Green Gram)</td>\n",
       "      <td>20.0</td>\n",
       "      <td>20.0</td>\n",
       "      <td>1056.6</td>\n",
       "      <td>1.000000</td>\n",
       "      <td>22.526667</td>\n",
       "    </tr>\n",
       "    <tr>\n",
       "      <th>164806</th>\n",
       "      <td>Zunheboto</td>\n",
       "      <td>2017</td>\n",
       "      <td>Nagaland</td>\n",
       "      <td>Kharif</td>\n",
       "      <td>Oilseeds total</td>\n",
       "      <td>8170.0</td>\n",
       "      <td>10170.0</td>\n",
       "      <td>1056.6</td>\n",
       "      <td>1.244798</td>\n",
       "      <td>22.526667</td>\n",
       "    </tr>\n",
       "    <tr>\n",
       "      <th>164807</th>\n",
       "      <td>Zunheboto</td>\n",
       "      <td>2017</td>\n",
       "      <td>Nagaland</td>\n",
       "      <td>Kharif</td>\n",
       "      <td>Groundnut</td>\n",
       "      <td>120.0</td>\n",
       "      <td>120.0</td>\n",
       "      <td>1056.6</td>\n",
       "      <td>1.000000</td>\n",
       "      <td>22.526667</td>\n",
       "    </tr>\n",
       "  </tbody>\n",
       "</table>\n",
       "<p>164808 rows × 10 columns</p>\n",
       "</div>"
      ],
      "text/plain": [
       "       District_Name  Year  State_Name      Season               Crop  \\\n",
       "0           Adilabad  2001  Telangana         Rabi          Sunflower   \n",
       "1           Adilabad  2001  Telangana         Rabi               Urad   \n",
       "2           Adilabad  2001  Telangana         Rabi              Wheat   \n",
       "3           Adilabad  2001  Telangana   Whole Year          Sugarcane   \n",
       "4           Adilabad  2001  Telangana   Whole Year            Tobacco   \n",
       "...              ...   ...         ...         ...                ...   \n",
       "164803     Zunheboto  2017    Nagaland      Kharif              Maize   \n",
       "164804     Zunheboto  2017    Nagaland      Kharif              Mesta   \n",
       "164805     Zunheboto  2017    Nagaland      Kharif  Moong(Green Gram)   \n",
       "164806     Zunheboto  2017    Nagaland      Kharif     Oilseeds total   \n",
       "164807     Zunheboto  2017    Nagaland      Kharif          Groundnut   \n",
       "\n",
       "           Area  Production  Rainfall      Yield  Temperature  \n",
       "0         700.0       300.0     103.4   0.428571    24.191500  \n",
       "1         700.0       300.0     103.4   0.428571    24.191500  \n",
       "2        2800.0      1600.0     103.4   0.571429    24.191500  \n",
       "3         300.0     28800.0    1322.4  96.000000    27.897667  \n",
       "4         200.0       400.0    1322.4   2.000000    27.897667  \n",
       "...         ...         ...       ...        ...          ...  \n",
       "164803  10090.0     19950.0    1056.6   1.977205    22.526667  \n",
       "164804    210.0       220.0    1056.6   1.047619    22.526667  \n",
       "164805     20.0        20.0    1056.6   1.000000    22.526667  \n",
       "164806   8170.0     10170.0    1056.6   1.244798    22.526667  \n",
       "164807    120.0       120.0    1056.6   1.000000    22.526667  \n",
       "\n",
       "[164808 rows x 10 columns]"
      ]
     },
     "execution_count": 3,
     "metadata": {},
     "output_type": "execute_result"
    }
   ],
   "source": [
    "data = pd.read_csv(\"../ML/Dataset Processed/crop_production_cleaned.csv\")\n",
    "data"
   ]
  },
  {
   "cell_type": "code",
   "execution_count": 4,
   "metadata": {},
   "outputs": [],
   "source": [
    "data.head()\n",
    "data = data[:10000]"
   ]
  },
  {
   "cell_type": "code",
   "execution_count": 5,
   "metadata": {},
   "outputs": [],
   "source": [
    "data = data.drop(['State_Name','District_Name','Year','Yield'],axis=1)"
   ]
  },
  {
   "cell_type": "code",
   "execution_count": 6,
   "metadata": {},
   "outputs": [
    {
     "data": {
      "text/html": [
       "<div>\n",
       "<style scoped>\n",
       "    .dataframe tbody tr th:only-of-type {\n",
       "        vertical-align: middle;\n",
       "    }\n",
       "\n",
       "    .dataframe tbody tr th {\n",
       "        vertical-align: top;\n",
       "    }\n",
       "\n",
       "    .dataframe thead th {\n",
       "        text-align: right;\n",
       "    }\n",
       "</style>\n",
       "<table border=\"1\" class=\"dataframe\">\n",
       "  <thead>\n",
       "    <tr style=\"text-align: right;\">\n",
       "      <th></th>\n",
       "      <th>Season</th>\n",
       "      <th>Crop</th>\n",
       "      <th>Area</th>\n",
       "      <th>Production</th>\n",
       "      <th>Rainfall</th>\n",
       "      <th>Temperature</th>\n",
       "    </tr>\n",
       "  </thead>\n",
       "  <tbody>\n",
       "    <tr>\n",
       "      <th>0</th>\n",
       "      <td>Rabi</td>\n",
       "      <td>Sunflower</td>\n",
       "      <td>700.0</td>\n",
       "      <td>300.0</td>\n",
       "      <td>103.4</td>\n",
       "      <td>24.191500</td>\n",
       "    </tr>\n",
       "    <tr>\n",
       "      <th>1</th>\n",
       "      <td>Rabi</td>\n",
       "      <td>Urad</td>\n",
       "      <td>700.0</td>\n",
       "      <td>300.0</td>\n",
       "      <td>103.4</td>\n",
       "      <td>24.191500</td>\n",
       "    </tr>\n",
       "    <tr>\n",
       "      <th>2</th>\n",
       "      <td>Rabi</td>\n",
       "      <td>Wheat</td>\n",
       "      <td>2800.0</td>\n",
       "      <td>1600.0</td>\n",
       "      <td>103.4</td>\n",
       "      <td>24.191500</td>\n",
       "    </tr>\n",
       "    <tr>\n",
       "      <th>3</th>\n",
       "      <td>Whole Year</td>\n",
       "      <td>Sugarcane</td>\n",
       "      <td>300.0</td>\n",
       "      <td>28800.0</td>\n",
       "      <td>1322.4</td>\n",
       "      <td>27.897667</td>\n",
       "    </tr>\n",
       "    <tr>\n",
       "      <th>4</th>\n",
       "      <td>Whole Year</td>\n",
       "      <td>Tobacco</td>\n",
       "      <td>200.0</td>\n",
       "      <td>400.0</td>\n",
       "      <td>1322.4</td>\n",
       "      <td>27.897667</td>\n",
       "    </tr>\n",
       "  </tbody>\n",
       "</table>\n",
       "</div>"
      ],
      "text/plain": [
       "       Season       Crop    Area  Production  Rainfall  Temperature\n",
       "0        Rabi  Sunflower   700.0       300.0     103.4    24.191500\n",
       "1        Rabi       Urad   700.0       300.0     103.4    24.191500\n",
       "2        Rabi      Wheat  2800.0      1600.0     103.4    24.191500\n",
       "3  Whole Year  Sugarcane   300.0     28800.0    1322.4    27.897667\n",
       "4  Whole Year    Tobacco   200.0       400.0    1322.4    27.897667"
      ]
     },
     "execution_count": 6,
     "metadata": {},
     "output_type": "execute_result"
    }
   ],
   "source": [
    "data.head()"
   ]
  },
  {
   "cell_type": "code",
   "execution_count": 7,
   "metadata": {},
   "outputs": [
    {
     "name": "stdout",
     "output_type": "stream",
     "text": [
      "<class 'pandas.core.frame.DataFrame'>\n",
      "RangeIndex: 10000 entries, 0 to 9999\n",
      "Data columns (total 6 columns):\n",
      " #   Column       Non-Null Count  Dtype  \n",
      "---  ------       --------------  -----  \n",
      " 0   Season       10000 non-null  object \n",
      " 1   Crop         10000 non-null  object \n",
      " 2   Area         10000 non-null  float64\n",
      " 3   Production   10000 non-null  float64\n",
      " 4   Rainfall     10000 non-null  float64\n",
      " 5   Temperature  10000 non-null  float64\n",
      "dtypes: float64(4), object(2)\n",
      "memory usage: 468.9+ KB\n"
     ]
    }
   ],
   "source": [
    "data.info()"
   ]
  },
  {
   "cell_type": "code",
   "execution_count": 8,
   "metadata": {
    "collapsed": true
   },
   "outputs": [],
   "source": [
    "#handling missing data\n",
    "data = data.dropna()"
   ]
  },
  {
   "cell_type": "code",
   "execution_count": 9,
   "metadata": {},
   "outputs": [
    {
     "name": "stdout",
     "output_type": "stream",
     "text": [
      "<class 'pandas.core.frame.DataFrame'>\n",
      "RangeIndex: 10000 entries, 0 to 9999\n",
      "Data columns (total 6 columns):\n",
      " #   Column       Non-Null Count  Dtype  \n",
      "---  ------       --------------  -----  \n",
      " 0   Season       10000 non-null  object \n",
      " 1   Crop         10000 non-null  object \n",
      " 2   Area         10000 non-null  float64\n",
      " 3   Production   10000 non-null  float64\n",
      " 4   Rainfall     10000 non-null  float64\n",
      " 5   Temperature  10000 non-null  float64\n",
      "dtypes: float64(4), object(2)\n",
      "memory usage: 468.9+ KB\n"
     ]
    }
   ],
   "source": [
    "data.info()"
   ]
  },
  {
   "cell_type": "code",
   "execution_count": 10,
   "metadata": {},
   "outputs": [
    {
     "data": {
      "text/html": [
       "<div>\n",
       "<style scoped>\n",
       "    .dataframe tbody tr th:only-of-type {\n",
       "        vertical-align: middle;\n",
       "    }\n",
       "\n",
       "    .dataframe tbody tr th {\n",
       "        vertical-align: top;\n",
       "    }\n",
       "\n",
       "    .dataframe thead th {\n",
       "        text-align: right;\n",
       "    }\n",
       "</style>\n",
       "<table border=\"1\" class=\"dataframe\">\n",
       "  <thead>\n",
       "    <tr style=\"text-align: right;\">\n",
       "      <th></th>\n",
       "      <th>Area</th>\n",
       "      <th>Production</th>\n",
       "      <th>Rainfall</th>\n",
       "      <th>Temperature</th>\n",
       "    </tr>\n",
       "  </thead>\n",
       "  <tbody>\n",
       "    <tr>\n",
       "      <th>count</th>\n",
       "      <td>10000.000000</td>\n",
       "      <td>1.000000e+04</td>\n",
       "      <td>10000.000000</td>\n",
       "      <td>10000.000000</td>\n",
       "    </tr>\n",
       "    <tr>\n",
       "      <th>mean</th>\n",
       "      <td>16026.059200</td>\n",
       "      <td>6.335205e+04</td>\n",
       "      <td>445.336550</td>\n",
       "      <td>25.394501</td>\n",
       "    </tr>\n",
       "    <tr>\n",
       "      <th>std</th>\n",
       "      <td>51264.277414</td>\n",
       "      <td>3.945923e+05</td>\n",
       "      <td>437.130896</td>\n",
       "      <td>3.485550</td>\n",
       "    </tr>\n",
       "    <tr>\n",
       "      <th>min</th>\n",
       "      <td>1.000000</td>\n",
       "      <td>0.000000e+00</td>\n",
       "      <td>0.000000</td>\n",
       "      <td>14.578250</td>\n",
       "    </tr>\n",
       "    <tr>\n",
       "      <th>25%</th>\n",
       "      <td>103.000000</td>\n",
       "      <td>1.050000e+02</td>\n",
       "      <td>82.300000</td>\n",
       "      <td>23.183458</td>\n",
       "    </tr>\n",
       "    <tr>\n",
       "      <th>50%</th>\n",
       "      <td>930.000000</td>\n",
       "      <td>1.000000e+03</td>\n",
       "      <td>349.800000</td>\n",
       "      <td>26.491333</td>\n",
       "    </tr>\n",
       "    <tr>\n",
       "      <th>75%</th>\n",
       "      <td>6135.250000</td>\n",
       "      <td>1.100000e+04</td>\n",
       "      <td>670.300000</td>\n",
       "      <td>28.087000</td>\n",
       "    </tr>\n",
       "    <tr>\n",
       "      <th>max</th>\n",
       "      <td>877029.000000</td>\n",
       "      <td>1.023443e+07</td>\n",
       "      <td>3463.900000</td>\n",
       "      <td>31.834685</td>\n",
       "    </tr>\n",
       "  </tbody>\n",
       "</table>\n",
       "</div>"
      ],
      "text/plain": [
       "                Area    Production      Rainfall   Temperature\n",
       "count   10000.000000  1.000000e+04  10000.000000  10000.000000\n",
       "mean    16026.059200  6.335205e+04    445.336550     25.394501\n",
       "std     51264.277414  3.945923e+05    437.130896      3.485550\n",
       "min         1.000000  0.000000e+00      0.000000     14.578250\n",
       "25%       103.000000  1.050000e+02     82.300000     23.183458\n",
       "50%       930.000000  1.000000e+03    349.800000     26.491333\n",
       "75%      6135.250000  1.100000e+04    670.300000     28.087000\n",
       "max    877029.000000  1.023443e+07   3463.900000     31.834685"
      ]
     },
     "execution_count": 10,
     "metadata": {},
     "output_type": "execute_result"
    }
   ],
   "source": [
    "data.describe()"
   ]
  },
  {
   "cell_type": "code",
   "execution_count": 11,
   "metadata": {},
   "outputs": [],
   "source": [
    "le = preprocessing.LabelEncoder()\n",
    "\n",
    "crop = le.fit_transform(data.Crop)\n",
    "Season = le.fit_transform(data.Season)"
   ]
  },
  {
   "cell_type": "code",
   "execution_count": 12,
   "metadata": {
    "collapsed": true
   },
   "outputs": [],
   "source": [
    "data['Crop'] = crop\n",
    "data['Season']  = Season"
   ]
  },
  {
   "cell_type": "code",
   "execution_count": 13,
   "metadata": {},
   "outputs": [
    {
     "data": {
      "text/html": [
       "<div>\n",
       "<style scoped>\n",
       "    .dataframe tbody tr th:only-of-type {\n",
       "        vertical-align: middle;\n",
       "    }\n",
       "\n",
       "    .dataframe tbody tr th {\n",
       "        vertical-align: top;\n",
       "    }\n",
       "\n",
       "    .dataframe thead th {\n",
       "        text-align: right;\n",
       "    }\n",
       "</style>\n",
       "<table border=\"1\" class=\"dataframe\">\n",
       "  <thead>\n",
       "    <tr style=\"text-align: right;\">\n",
       "      <th></th>\n",
       "      <th>Season</th>\n",
       "      <th>Crop</th>\n",
       "      <th>Area</th>\n",
       "      <th>Production</th>\n",
       "      <th>Rainfall</th>\n",
       "      <th>Temperature</th>\n",
       "    </tr>\n",
       "  </thead>\n",
       "  <tbody>\n",
       "    <tr>\n",
       "      <th>0</th>\n",
       "      <td>2</td>\n",
       "      <td>70</td>\n",
       "      <td>700.0</td>\n",
       "      <td>300.0</td>\n",
       "      <td>103.4</td>\n",
       "      <td>24.191500</td>\n",
       "    </tr>\n",
       "    <tr>\n",
       "      <th>1</th>\n",
       "      <td>2</td>\n",
       "      <td>77</td>\n",
       "      <td>700.0</td>\n",
       "      <td>300.0</td>\n",
       "      <td>103.4</td>\n",
       "      <td>24.191500</td>\n",
       "    </tr>\n",
       "    <tr>\n",
       "      <th>2</th>\n",
       "      <td>2</td>\n",
       "      <td>80</td>\n",
       "      <td>2800.0</td>\n",
       "      <td>1600.0</td>\n",
       "      <td>103.4</td>\n",
       "      <td>24.191500</td>\n",
       "    </tr>\n",
       "    <tr>\n",
       "      <th>3</th>\n",
       "      <td>4</td>\n",
       "      <td>69</td>\n",
       "      <td>300.0</td>\n",
       "      <td>28800.0</td>\n",
       "      <td>1322.4</td>\n",
       "      <td>27.897667</td>\n",
       "    </tr>\n",
       "    <tr>\n",
       "      <th>4</th>\n",
       "      <td>4</td>\n",
       "      <td>73</td>\n",
       "      <td>200.0</td>\n",
       "      <td>400.0</td>\n",
       "      <td>1322.4</td>\n",
       "      <td>27.897667</td>\n",
       "    </tr>\n",
       "  </tbody>\n",
       "</table>\n",
       "</div>"
      ],
      "text/plain": [
       "   Season  Crop    Area  Production  Rainfall  Temperature\n",
       "0       2    70   700.0       300.0     103.4    24.191500\n",
       "1       2    77   700.0       300.0     103.4    24.191500\n",
       "2       2    80  2800.0      1600.0     103.4    24.191500\n",
       "3       4    69   300.0     28800.0    1322.4    27.897667\n",
       "4       4    73   200.0       400.0    1322.4    27.897667"
      ]
     },
     "execution_count": 13,
     "metadata": {},
     "output_type": "execute_result"
    }
   ],
   "source": [
    "data.head()"
   ]
  },
  {
   "cell_type": "code",
   "execution_count": 14,
   "metadata": {
    "collapsed": true
   },
   "outputs": [],
   "source": [
    "#from sklearn.model_selection import train_test_split\n",
    "from sklearn.model_selection import train_test_split"
   ]
  },
  {
   "cell_type": "code",
   "execution_count": 15,
   "metadata": {},
   "outputs": [],
   "source": [
    "X = data.iloc[:,:-1]\n",
    "y = data.iloc[:,-1]"
   ]
  },
  {
   "cell_type": "code",
   "execution_count": 16,
   "metadata": {
    "collapsed": true
   },
   "outputs": [],
   "source": [
    "X_train,X_test,Y_train,Y_test = train_test_split(X,y,test_size=0.2,random_state=100)"
   ]
  },
  {
   "cell_type": "code",
   "execution_count": 17,
   "metadata": {
    "collapsed": true
   },
   "outputs": [],
   "source": [
    "from sklearn.model_selection import *\n",
    "def train_and_evaluate(clf, X_train, y_train):\n",
    "    \n",
    "    clf.fit(X_train, y_train)\n",
    "    \n",
    "    print (\"Coefficient of determination on training set:\",clf.score(X_train, y_train))\n",
    "    \n",
    "    # create a k-fold croos validation iterator of k=5 folds\n",
    "    cv = KFold(X_train.shape[0], 5, shuffle=True, random_state=33)\n",
    "    scores = cross_val_score(clf, X_train, y_train, cv=cv)\n",
    "    print (\"Average coefficient of determination using 5-fold crossvalidation:\",np.mean(scores))"
   ]
  },
  {
   "cell_type": "markdown",
   "metadata": {},
   "source": [
    "## Random forest regression"
   ]
  },
  {
   "cell_type": "code",
   "execution_count": 23,
   "metadata": {},
   "outputs": [
    {
     "name": "stdout",
     "output_type": "stream",
     "text": [
      "R^2 train: 0.979, test: 0.888\n"
     ]
    }
   ],
   "source": [
    "from sklearn.ensemble import RandomForestRegressor\n",
    "from sklearn.metrics import  r2_score\n",
    "model = RandomForestRegressor(n_estimators=11, random_state=1)\n",
    "model.fit(X_train, Y_train)\n",
    "y_train_pred = model.predict(X_train)\n",
    "y_test_pred = model.predict(X_test)\n",
    "\n",
    "print('R^2 train: %.3f, test: %.3f' % (\n",
    "        r2_score(Y_train, y_train_pred),\n",
    "        r2_score(Y_test, y_test_pred)))"
   ]
  },
  {
   "cell_type": "code",
   "execution_count": 25,
   "metadata": {},
   "outputs": [
    {
     "data": {
      "text/plain": [
       "0.8883181587938802"
      ]
     },
     "execution_count": 25,
     "metadata": {},
     "output_type": "execute_result"
    }
   ],
   "source": [
    "model.score(X_test,Y_test)"
   ]
  }
 ],
 "metadata": {
  "anaconda-cloud": {},
  "kernelspec": {
   "display_name": "Python 3.10.7 64-bit",
   "language": "python",
   "name": "python3"
  },
  "language_info": {
   "codemirror_mode": {
    "name": "ipython",
    "version": 3
   },
   "file_extension": ".py",
   "mimetype": "text/x-python",
   "name": "python",
   "nbconvert_exporter": "python",
   "pygments_lexer": "ipython3",
   "version": "3.10.7 (tags/v3.10.7:6cc6b13, Sep  5 2022, 14:08:36) [MSC v.1933 64 bit (AMD64)]"
  },
  "vscode": {
   "interpreter": {
    "hash": "3c74516f48d742392aebfb3bd6803865bfb88a5fe623c8df967ab6f461cdf791"
   }
  }
 },
 "nbformat": 4,
 "nbformat_minor": 1
}
